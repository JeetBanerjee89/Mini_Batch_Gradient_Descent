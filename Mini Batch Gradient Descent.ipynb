{
 "cells": [
  {
   "cell_type": "code",
   "execution_count": 1,
   "id": "00f458e2-02aa-4fb8-b753-e081e8d3ef94",
   "metadata": {},
   "outputs": [],
   "source": [
    "#importing libraries\n",
    "import pandas as pd\n",
    "import numpy as np\n",
    "\n",
    "#reading CSV\n",
    "df = pd.read_csv('Student_Performance.CSV')\n",
    "df.head()\n",
    "\n",
    "#converting categorical to numerical\n",
    "df['Extracurricular Activities'] = df['Extracurricular Activities'].apply(lambda x: 1 if x=='Yes' else 0)\n",
    "\n",
    "#segregating feature and target variables\n",
    "X = df.iloc[:,0:5]\n",
    "y = df.iloc[:,-1]\n",
    "\n",
    "#converting DataFrame into Numpy array\n",
    "X = np.array(X)\n",
    "y = np.array(y)\n",
    "\n",
    "#splitting into training-testing data in 80:20 \n",
    "from sklearn.model_selection import train_test_split\n",
    "X_train,X_test,y_train,y_test=train_test_split(X,y,test_size=0.2,random_state=2)"
   ]
  },
  {
   "cell_type": "code",
   "execution_count": 2,
   "id": "af1e1615-98e2-49b6-addb-1939d39c7e6a",
   "metadata": {},
   "outputs": [
    {
     "name": "stdout",
     "output_type": "stream",
     "text": [
      "Weights (Mini Brach Gradient Descent):  [ 2.00232863  0.77908834  0.69234888 -1.23879295 -0.31759669]\n",
      "Intercept (Mini Brach Gradient Descent):  -0.00313252414173087\n",
      "R2 Score (Mini Brach Gradient Descent):  0.9020616131448228\n"
     ]
    }
   ],
   "source": [
    "#defining Mini Batch Gradient Descent class\n",
    "class ownMBGD:\n",
    "\n",
    "    #defining constructor\n",
    "    def __init__(self,learning_rate,epochs,batch_size):\n",
    "        self.weights = None\n",
    "        self.intercept = None\n",
    "        self.lr = learning_rate\n",
    "        self.epochs = epochs\n",
    "        self.batch_size = batch_size\n",
    "\n",
    "    #method_1: training the model\n",
    "    def model_fit(self,X_train,y_train):\n",
    "        #initialization\n",
    "        self.weights = np.ones(X_train.shape[1])\n",
    "        self.intercept = 0\n",
    "\n",
    "        #updating weights and intercept\n",
    "        for i in range(self.epochs):\n",
    "            #for each epoch, inner loop runs for no. of batches\n",
    "            for j in range(int(X_train.shape[0]/self.batch_size)):\n",
    "                rand_nums = np.random.choice(range(X_train.shape[0]), self.batch_size, replace=False)\n",
    "\n",
    "                #updating weights with batch_size data\n",
    "                y_cap = self.intercept + np.dot(X_train[rand_nums],self.weights)\n",
    "                slope_lossfunc_intercept = -2 * np.mean(y_train[rand_nums] - y_cap)\n",
    "                self.intercept = self.intercept - (self.lr * slope_lossfunc_intercept)\n",
    "\n",
    "                #updating intercept with batch_size data\n",
    "                slope_lossfunc_weights = -2 * np.dot((y_train[rand_nums] - y_cap),X_train[rand_nums])\n",
    "                self.weights = self.weights - (self.lr * slope_lossfunc_weights)\n",
    "\n",
    "        #returning final weights and intercept\n",
    "        return (self.weights,self.intercept)\n",
    "\n",
    "    #method_2: predicting target variable\n",
    "    def prediction(self,X_test):\n",
    "        return self.intercept + np.dot(X_test,self.weights)\n",
    "\n",
    "#creating an object with defined hyperparameters\n",
    "mbgd_reg = ownMBGD(learning_rate=0.000001,epochs=30,batch_size=180)\n",
    "#callling method_1\n",
    "[final_weights, final_intercept] = mbgd_reg.model_fit(X_train,y_train)\n",
    "#calling method_2\n",
    "y_predict = mbgd_reg.prediction(X_test)\n",
    "\n",
    "#printing ultimate weights and intercept, and r2-score\n",
    "print('Weights (Mini Brach Gradient Descent): ',final_weights)\n",
    "print('Intercept (Mini Brach Gradient Descent): ',final_intercept)\n",
    "\n",
    "from sklearn.metrics import r2_score\n",
    "print('R2 Score (Mini Brach Gradient Descent): ',r2_score(y_test,y_predict))"
   ]
  },
  {
   "cell_type": "code",
   "execution_count": null,
   "id": "3f6d1ee0-b4aa-4ab8-86d5-a96bdbf1c95d",
   "metadata": {},
   "outputs": [],
   "source": []
  }
 ],
 "metadata": {
  "kernelspec": {
   "display_name": "Python 3 (ipykernel)",
   "language": "python",
   "name": "python3"
  },
  "language_info": {
   "codemirror_mode": {
    "name": "ipython",
    "version": 3
   },
   "file_extension": ".py",
   "mimetype": "text/x-python",
   "name": "python",
   "nbconvert_exporter": "python",
   "pygments_lexer": "ipython3",
   "version": "3.12.2"
  }
 },
 "nbformat": 4,
 "nbformat_minor": 5
}
